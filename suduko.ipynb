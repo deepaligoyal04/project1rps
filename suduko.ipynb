{
  "nbformat": 4,
  "nbformat_minor": 0,
  "metadata": {
    "colab": {
      "provenance": [],
      "authorship_tag": "ABX9TyPiVBD6YYqOxLuECZ4nek9T",
      "include_colab_link": true
    },
    "kernelspec": {
      "name": "python3",
      "display_name": "Python 3"
    },
    "language_info": {
      "name": "python"
    }
  },
  "cells": [
    {
      "cell_type": "markdown",
      "metadata": {
        "id": "view-in-github",
        "colab_type": "text"
      },
      "source": [
        "<a href=\"https://colab.research.google.com/github/deepaligoyal04/project1rps/blob/main/suduko.ipynb\" target=\"_parent\"><img src=\"https://colab.research.google.com/assets/colab-badge.svg\" alt=\"Open In Colab\"/></a>"
      ]
    },
    {
      "cell_type": "code",
      "execution_count": 4,
      "metadata": {
        "colab": {
          "base_uri": "https://localhost:8080/"
        },
        "id": "JGFh2D93wIiZ",
        "outputId": "59f76e53-e059-429a-eec9-725670886de1"
      },
      "outputs": [
        {
          "output_type": "stream",
          "name": "stdout",
          "text": [
            "[5, 3, 4, 6, 7, 8, 9, 1, 2]\n",
            "[6, 7, 2, 1, 9, 5, 3, 4, 8]\n",
            "[1, 9, 8, 3, 4, 2, 5, 6, 7]\n",
            "[8, 5, 9, 7, 6, 1, 4, 2, 3]\n",
            "[4, 2, 6, 8, 5, 3, 7, 9, 1]\n",
            "[7, 1, 3, 9, 2, 4, 8, 5, 6]\n",
            "[9, 6, 1, 5, 3, 7, 2, 8, 4]\n",
            "[2, 8, 7, 4, 1, 9, 6, 3, 5]\n",
            "[3, 4, 5, 2, 8, 6, 1, 7, 9]\n"
          ]
        }
      ],
      "source": [
        "def find_empty(puzzle):\n",
        "    for r in range(9):\n",
        "        for c in range(9):\n",
        "            if puzzle[r][c]==-1:\n",
        "                return r,c\n",
        "    return None,None\n",
        "\n",
        "def is_val(guess,puzzle,row,col):\n",
        "    if guess in puzzle[row]:\n",
        "        return False\n",
        "\n",
        "    col_vals=[puzzle[i][col] for i in range(9)]\n",
        "    if guess in col_vals:\n",
        "        return False\n",
        "\n",
        "    row_strt=(row//3)*3\n",
        "    col_strt=(col//3)*3\n",
        "\n",
        "    for r in range(row_strt,row_strt+3):\n",
        "        for c in range(col_strt,col_strt+3):\n",
        "            if puzzle[r][c]==guess:\n",
        "                return False\n",
        "\n",
        "    return True\n",
        "\n",
        "def solve_puzzle(puzzle):\n",
        "    row,col=find_empty(puzzle)\n",
        "\n",
        "    if row is None:\n",
        "        return True\n",
        "\n",
        "    for guess in range(1,10):\n",
        "        if is_val(guess,puzzle,row,col):\n",
        "            puzzle[row][col]=guess\n",
        "\n",
        "            if solve_puzzle(puzzle):\n",
        "               return True\n",
        "\n",
        "            puzzle[row][col]=-1\n",
        "\n",
        "    return False\n",
        "\n",
        "board=[\n",
        "     [5, 3, -1, -1, 7, -1, -1, -1, -1],\n",
        "    [6, -1, -1, 1, 9, 5, -1, -1, -1],\n",
        "    [-1, 9, 8, -1, -1, -1, -1, 6, -1],\n",
        "    [8, -1, -1, -1, 6, -1, -1, -1, 3],\n",
        "    [4, -1, -1, 8, -1, 3, -1, -1, 1],\n",
        "    [7, -1, -1, -1, 2, -1, -1, -1, 6],\n",
        "    [-1, 6, -1, -1, -1, -1, 2, 8, -1],\n",
        "    [-1, -1, -1, 4, 1, 9, -1, -1, 5],\n",
        "    [-1, -1, -1, -1, 8, -1, -1, 7, 9]\n",
        "]\n",
        "\n",
        "if solve_puzzle(board):\n",
        "    for row in board:\n",
        "        print(row)\n",
        "else:\n",
        "    print(\"sry\")\n",
        "\n",
        "\n"
      ]
    }
  ]
}